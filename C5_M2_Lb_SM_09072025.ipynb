{
 "cells": [
  {
   "cell_type": "code",
   "execution_count": 1,
   "id": "613cb6f0-17c0-4105-a516-f9cea44dfd8c",
   "metadata": {},
   "outputs": [],
   "source": [
    "# Import Necessary Libraries\n",
    "import numpy as np\n",
    "import pandas as pd\n",
    "from sklearn.model_selection import train_test_split\n",
    "from sklearn.feature_extraction.text import CountVectorizer, TfidfVectorizer\n",
    "from sklearn.naive_bayes import MultinomialNB\n",
    "from sklearn.metrics import classification_report, confusion_matrix, accuracy_score\n",
    "from sklearn.pipeline import Pipeline\n",
    "import matplotlib.pyplot as plt\n",
    "import seaborn as sns\n",
    "import re\n",
    "import nltk\n",
    "from nltk.corpus import stopwords, wordnet\n",
    "from nltk.stem import WordNetLemmatizer\n",
    "from nltk import pos_tag\n",
    "import gensim.downloader as api\n",
    "from gensim.models import Word2Vec"
   ]
  },
  {
   "cell_type": "markdown",
   "id": "93531388-e8a6-44d5-acb5-95b387b79ab9",
   "metadata": {},
   "source": [
    "##Data Loading & Exploration"
   ]
  },
  {
   "cell_type": "code",
   "execution_count": 2,
   "id": "6233397a-a592-470d-91e9-d02cd643d9dc",
   "metadata": {},
   "outputs": [
    {
     "data": {
      "text/html": [
       "<div>\n",
       "<style scoped>\n",
       "    .dataframe tbody tr th:only-of-type {\n",
       "        vertical-align: middle;\n",
       "    }\n",
       "\n",
       "    .dataframe tbody tr th {\n",
       "        vertical-align: top;\n",
       "    }\n",
       "\n",
       "    .dataframe thead th {\n",
       "        text-align: right;\n",
       "    }\n",
       "</style>\n",
       "<table border=\"1\" class=\"dataframe\">\n",
       "  <thead>\n",
       "    <tr style=\"text-align: right;\">\n",
       "      <th></th>\n",
       "      <th>feedback_id</th>\n",
       "      <th>feedback_text</th>\n",
       "      <th>department</th>\n",
       "    </tr>\n",
       "  </thead>\n",
       "  <tbody>\n",
       "    <tr>\n",
       "      <th>0</th>\n",
       "      <td>141</td>\n",
       "      <td>Why does the app need access to my contacts? T...</td>\n",
       "      <td>app_experience</td>\n",
       "    </tr>\n",
       "    <tr>\n",
       "      <th>1</th>\n",
       "      <td>114</td>\n",
       "      <td>The station closure information isn't visible ...</td>\n",
       "      <td>service_updates</td>\n",
       "    </tr>\n",
       "    <tr>\n",
       "      <th>2</th>\n",
       "      <td>17</td>\n",
       "      <td>The crosswalk at Main and Central is shown in ...</td>\n",
       "      <td>navigation_issues</td>\n",
       "    </tr>\n",
       "    <tr>\n",
       "      <th>3</th>\n",
       "      <td>76</td>\n",
       "      <td>The ferry schedule information hasn't been upd...</td>\n",
       "      <td>service_updates</td>\n",
       "    </tr>\n",
       "    <tr>\n",
       "      <th>4</th>\n",
       "      <td>156</td>\n",
       "      <td>Every time I try to submit feedback through th...</td>\n",
       "      <td>app_experience</td>\n",
       "    </tr>\n",
       "  </tbody>\n",
       "</table>\n",
       "</div>"
      ],
      "text/plain": [
       "   feedback_id                                      feedback_text  \\\n",
       "0          141  Why does the app need access to my contacts? T...   \n",
       "1          114  The station closure information isn't visible ...   \n",
       "2           17  The crosswalk at Main and Central is shown in ...   \n",
       "3           76  The ferry schedule information hasn't been upd...   \n",
       "4          156  Every time I try to submit feedback through th...   \n",
       "\n",
       "          department  \n",
       "0     app_experience  \n",
       "1    service_updates  \n",
       "2  navigation_issues  \n",
       "3    service_updates  \n",
       "4     app_experience  "
      ]
     },
     "execution_count": 2,
     "metadata": {},
     "output_type": "execute_result"
    }
   ],
   "source": [
    "df = pd.read_csv('urban_feedback.csv')\n",
    "df.head()"
   ]
  },
  {
   "cell_type": "code",
   "execution_count": 4,
   "id": "e9a12561-5a28-44f3-bb23-ce7161c72d80",
   "metadata": {},
   "outputs": [
    {
     "name": "stdout",
     "output_type": "stream",
     "text": [
      "Dataset shape: (197, 3)\n",
      "\n",
      "Class distribution:\n",
      "department\n",
      "app_experience       66\n",
      "service_updates      66\n",
      "navigation_issues    65\n",
      "Name: count, dtype: int64\n",
      "\n",
      "Sample feedback per department:\n",
      "\n",
      "APP_EXPERIENCE: Why does the app need access to my contacts? This seems like a privacy issue.\n",
      "\n",
      "SERVICE_UPDATES: The station closure information isn't visible until after I've planned a route through it.\n",
      "\n",
      "NAVIGATION_ISSUES: The crosswalk at Main and Central is shown in the wrong location on your map.\n"
     ]
    }
   ],
   "source": [
    "#Examine the dataset to understand its structure\n",
    "print(f\"Dataset shape: {df.shape}\")\n",
    "print(\"\\nClass distribution:\")\n",
    "print(df['department'].value_counts())\n",
    "print(\"\\nSample feedback per department:\")\n",
    "for dept in df['department'].unique():\n",
    "    sample_idx = df[df['department'] == dept].index[0]\n",
    "    print(f\"\\n{dept.upper()}: {df.loc[sample_idx, 'feedback_text']}\")"
   ]
  },
  {
   "cell_type": "code",
   "execution_count": 5,
   "id": "310bb328-f762-406b-80b6-b22cdcd2734d",
   "metadata": {},
   "outputs": [
    {
     "name": "stderr",
     "output_type": "stream",
     "text": [
      "[nltk_data] Downloading package punkt to /home/jovyan/nltk_data...\n",
      "[nltk_data]   Package punkt is already up-to-date!\n",
      "[nltk_data] Downloading package stopwords to /home/jovyan/nltk_data...\n",
      "[nltk_data]   Package stopwords is already up-to-date!\n",
      "[nltk_data] Downloading package wordnet to /home/jovyan/nltk_data...\n",
      "[nltk_data]   Package wordnet is already up-to-date!\n"
     ]
    },
    {
     "data": {
      "text/plain": [
       "True"
      ]
     },
     "execution_count": 5,
     "metadata": {},
     "output_type": "execute_result"
    }
   ],
   "source": [
    "# Download necessary NLTK resources\n",
    "nltk.download('punkt')\n",
    "nltk.download('stopwords')\n",
    "nltk.download('wordnet')"
   ]
  },
  {
   "cell_type": "code",
   "execution_count": 6,
   "id": "65e9b8c5-498b-477c-8019-61b7dd29ebf4",
   "metadata": {},
   "outputs": [],
   "source": [
    "# Initialize lemmatizer and stopwords\n",
    "lemmatizer = WordNetLemmatizer()\n",
    "stop_words = set(stopwords.words('english'))"
   ]
  },
  {
   "cell_type": "code",
   "execution_count": 7,
   "id": "d03288c0-fa4a-4511-8913-0fd36098e75d",
   "metadata": {},
   "outputs": [],
   "source": [
    "# Lemmatizer relies of part of speech to help\n",
    "def get_wordnet_pos(treebank_tag):\n",
    "  '''\n",
    "  Translate nltk POS to wordnet tags\n",
    "  '''\n",
    "  if treebank_tag.startswith('J'):\n",
    "      return wordnet.ADJ\n",
    "  elif treebank_tag.startswith('V'):\n",
    "      return wordnet.VERB\n",
    "  elif treebank_tag.startswith('N'):\n",
    "      return wordnet.NOUN\n",
    "  elif treebank_tag.startswith('R'):\n",
    "      return wordnet.ADV\n",
    "  else:\n",
    "      return wordnet.NOUN"
   ]
  },
  {
   "cell_type": "code",
   "execution_count": 8,
   "id": "c4b0f229-6502-43c2-8d0a-a7841090ca37",
   "metadata": {},
   "outputs": [],
   "source": [
    "def basic_preprocess(text):\n",
    "   \"\"\"Basic preprocessing function for text.\"\"\"\n",
    "   # Convert to lowercase\n",
    "   text = text.lower()\n",
    "  \n",
    "   # Remove special characters and numbers\n",
    "   text = re.sub(r'[^a-zA-Z\\s]', '', text)\n",
    "  \n",
    "   # Return cleaned text\n",
    "   return text"
   ]
  },
  {
   "cell_type": "code",
   "execution_count": 9,
   "id": "74b01b34-4b5a-410a-b01d-1fbd92585c41",
   "metadata": {},
   "outputs": [],
   "source": [
    "def advanced_preprocess(text):\n",
    "   \"\"\"Advanced preprocessing with tokenization, stopword removal, and lemmatization.\"\"\"\n",
    "   # Basic cleaning\n",
    "   text = basic_preprocess(text)\n",
    "  \n",
    "   # Tokenize\n",
    "   tokens = nltk.word_tokenize(text)\n",
    "  \n",
    "   # Tag with pos\n",
    "   tokens_tagged = pos_tag(tokens)\n",
    "   pos_tokens = [(word[0], get_wordnet_pos(word[1])) for word in tokens_tagged]\n",
    "  \n",
    "   # Remove stopwords and lemmatize\n",
    "   cleaned_tokens = [lemmatizer.lemmatize(token[0], token[1]) for token in pos_tokens if token[0] not in stop_words and len(token[0]) > 1]\n",
    "  \n",
    "   # Return cleaned tokens\n",
    "   return ' '.join(cleaned_tokens)"
   ]
  },
  {
   "cell_type": "code",
   "execution_count": 10,
   "id": "ace4170a-8974-4acc-b186-5576eec82a53",
   "metadata": {},
   "outputs": [],
   "source": [
    "# Apply preprocessing to the dataset\n",
    "df['cleaned_text'] = df['feedback_text'].apply(basic_preprocess)\n",
    "df['lemmatized_text'] = df['feedback_text'].apply(advanced_preprocess)"
   ]
  },
  {
   "cell_type": "code",
   "execution_count": 11,
   "id": "fd696668-d310-4bb5-a149-98939d8cc954",
   "metadata": {},
   "outputs": [
    {
     "name": "stdout",
     "output_type": "stream",
     "text": [
      "Original: The station closure information isn't visible until after I've planned a route through it.\n",
      "Cleaned: the station closure information isnt visible until after ive planned a route through it\n",
      "Lemmatized: station closure information isnt visible ive plan route\n"
     ]
    }
   ],
   "source": [
    "# Show the  results for a sample feedbacl\n",
    "sample_idx = 1\n",
    "print(f\"Original: {df.loc[sample_idx, 'feedback_text']}\")\n",
    "print(f\"Cleaned: {df.loc[sample_idx, 'cleaned_text']}\")\n",
    "print(f\"Lemmatized: {df.loc[sample_idx, 'lemmatized_text']}\")"
   ]
  },
  {
   "cell_type": "markdown",
   "id": "59016106-1b31-4373-bd25-2683148f364c",
   "metadata": {},
   "source": [
    "##Split Data into Training and Testing Sets"
   ]
  },
  {
   "cell_type": "code",
   "execution_count": 12,
   "id": "70045d5f-1f0a-4f9f-a3d1-d8747a9035a9",
   "metadata": {},
   "outputs": [
    {
     "name": "stdout",
     "output_type": "stream",
     "text": [
      "Training set size: 137\n",
      "Testing set size: 60\n",
      "Class distribution in training set: \n",
      "department\n",
      "app_experience       46\n",
      "service_updates      46\n",
      "navigation_issues    45\n",
      "Name: count, dtype: int64\n",
      "Class distribution in testing set: \n",
      "department\n",
      "service_updates      20\n",
      "app_experience       20\n",
      "navigation_issues    20\n",
      "Name: count, dtype: int64\n"
     ]
    }
   ],
   "source": [
    "X_train, X_test, y_train, y_test = train_test_split(\n",
    "   df['feedback_text'],\n",
    "   df['department'],\n",
    "   test_size=0.3,\n",
    "   random_state=42,\n",
    "   stratify=df['department']  # Ensure balanced classes in both sets\n",
    ")\n",
    "print(f\"Training set size: {len(X_train)}\")\n",
    "print(f\"Testing set size: {len(X_test)}\")\n",
    "print(f\"Class distribution in training set: \\n{y_train.value_counts()}\")\n",
    "print(f\"Class distribution in testing set: \\n{y_test.value_counts()}\")"
   ]
  },
  {
   "cell_type": "markdown",
   "id": "62affaef-ab7a-4564-87ba-4efc5a9921d1",
   "metadata": {},
   "source": [
    "##Feature Extraction"
   ]
  },
  {
   "cell_type": "code",
   "execution_count": 13,
   "id": "6b9fa4ae-9ab0-4572-bdd0-ad730a3c8827",
   "metadata": {},
   "outputs": [
    {
     "name": "stdout",
     "output_type": "stream",
     "text": [
      "Bag of Words features: 250\n",
      "TF-IDF features: 250\n",
      "Sample BoW features: ['access' 'accessibility' 'accord' 'accord app' 'account' 'actually'\n",
      " 'airport' 'airport shuttle' 'alert' 'alert dont']\n",
      "Sample TF-IDF features (including bigrams): ['accord app', 'airport shuttle', 'alert dont', 'app crash', 'app doesnt']\n"
     ]
    }
   ],
   "source": [
    "# Bag of Words vectorizer\n",
    "count_vectorizer = CountVectorizer(\n",
    "   preprocessor=advanced_preprocess,\n",
    "   lowercase=False,  # Already done in preprocessing\n",
    "   min_df=2,  # Ignore terms that appear in fewer than 2 documents\n",
    "   max_df=0.95, # Ignore terms that appear in more than 95% of documents\n",
    "   ngram_range=(1, 2) # Include both single words and pairs of consecutive words\n",
    ")\n",
    "\n",
    "\n",
    "# TF-IDF vectorizer\n",
    "tfidf_vectorizer = TfidfVectorizer(\n",
    "   preprocessor=advanced_preprocess,\n",
    "   lowercase=False,\n",
    "   min_df=2,\n",
    "   max_df=0.95,\n",
    "   ngram_range=(1, 2)\n",
    ")\n",
    "\n",
    "\n",
    "# Apply vectorizers to training data\n",
    "X_train_counts = count_vectorizer.fit_transform(X_train)\n",
    "X_train_tfidf = tfidf_vectorizer.fit_transform(X_train)\n",
    "\n",
    "\n",
    "# Get feature information\n",
    "count_features = count_vectorizer.get_feature_names_out()\n",
    "tfidf_features = tfidf_vectorizer.get_feature_names_out()\n",
    "\n",
    "\n",
    "print(f\"Bag of Words features: {len(count_features)}\")\n",
    "print(f\"TF-IDF features: {len(tfidf_features)}\")\n",
    "print(f\"Sample BoW features: {count_features[:10]}\")\n",
    "print(f\"Sample TF-IDF features (including bigrams): {[f for f in tfidf_features[:20] if ' ' in f][:5]}\")"
   ]
  },
  {
   "cell_type": "code",
   "execution_count": 15,
   "id": "dcd18a19-3690-4c01-893b-4c5a6a91d5c5",
   "metadata": {},
   "outputs": [
    {
     "name": "stdout",
     "output_type": "stream",
     "text": [
      "Index(['feedback_id', 'feedback_text', 'department', 'cleaned_text',\n",
      "       'lemmatized_text'],\n",
      "      dtype='object')\n"
     ]
    }
   ],
   "source": [
    "print(df.columns)"
   ]
  },
  {
   "cell_type": "code",
   "execution_count": 16,
   "id": "b5438216-93a3-4a43-b6b5-01332bf25dc5",
   "metadata": {},
   "outputs": [],
   "source": [
    "df = df.rename(columns={'lemmatized_text': 'tokens'})"
   ]
  },
  {
   "cell_type": "code",
   "execution_count": 17,
   "id": "c1e843ad-c60a-4cef-be09-dca6ececd6c1",
   "metadata": {},
   "outputs": [
    {
     "name": "stdout",
     "output_type": "stream",
     "text": [
      "Index(['feedback_id', 'feedback_text', 'department', 'cleaned_text', 'tokens'], dtype='object')\n"
     ]
    }
   ],
   "source": [
    "print(df.columns)"
   ]
  },
  {
   "cell_type": "code",
   "execution_count": 18,
   "id": "bbe42177-f439-4af0-9b76-b04f94893e3a",
   "metadata": {},
   "outputs": [
    {
     "name": "stdout",
     "output_type": "stream",
     "text": [
      "Word2Vec document vectors shape: (137, 100)\n"
     ]
    }
   ],
   "source": [
    "w2v_model = Word2Vec(\n",
    "   df['tokens'],\n",
    "   vector_size=100,  # Dimension of the embedding vectors\n",
    "   window=5,  # Context window size\n",
    "   min_count=1,  # Ignore words with fewer occurrences\n",
    "   workers=4,  # Number of processors to use\n",
    "   sg=1  # Skip-gram model (1) instead of CBOW (0)\n",
    ")\n",
    "\n",
    "\n",
    "# Function to create document vectors by averaging word vectors\n",
    "def document_to_vector(tokens, model, vector_size=100):\n",
    "   \"\"\"Convert a document (list of tokens) to a vector using word embeddings.\"\"\"\n",
    "   # Initialize an empty vector\n",
    "   doc_vector = np.zeros(vector_size)\n",
    "  \n",
    "   # Count valid tokens\n",
    "   valid_token_count = 0\n",
    "  \n",
    "   # Sum up vectors for each token\n",
    "   for token in tokens:\n",
    "       if token in model.wv:\n",
    "           doc_vector += model.wv[token]\n",
    "           valid_token_count += 1\n",
    "  \n",
    "   # Average the vectors\n",
    "   if valid_token_count > 0:\n",
    "       doc_vector /= valid_token_count\n",
    "      \n",
    "   return doc_vector\n",
    "\n",
    "\n",
    "def document_to_vector_pretrained(tokens, model, vector_size=300):\n",
    "   \"\"\"Convert a document (list of tokens) to a vector using word embeddings.\"\"\"\n",
    "   # Initialize an empty vector\n",
    "   doc_vector = np.zeros(vector_size)\n",
    "  \n",
    "   # Count valid tokens\n",
    "   valid_token_count = 0\n",
    "  \n",
    "   # Sum up vectors for each token\n",
    "   for token in tokens:\n",
    "       if token in model:\n",
    "           doc_vector += model[token]\n",
    "           valid_token_count += 1\n",
    "  \n",
    "   # Average the vectors\n",
    "   if valid_token_count > 0:\n",
    "       doc_vector /= valid_token_count\n",
    "      \n",
    "   return doc_vector\n",
    "\n",
    "\n",
    "# Create document vectors for training and test sets\n",
    "X_train_w2v = np.array([document_to_vector(tokens, w2v_model) for tokens in X_train])\n",
    "X_test_w2v = np.array([document_to_vector(tokens, w2v_model) for tokens in X_test])\n",
    "\n",
    "\n",
    "print(f\"Word2Vec document vectors shape: {X_train_w2v.shape}\")"
   ]
  },
  {
   "cell_type": "markdown",
   "id": "980205df-501f-47e1-b141-e7ff3e7deaa7",
   "metadata": {},
   "source": [
    "##Train Naive Bayes models with different feature representations:"
   ]
  },
  {
   "cell_type": "code",
   "execution_count": 19,
   "id": "0ef1c047-e864-4021-b3b6-725bb332f3b3",
   "metadata": {},
   "outputs": [
    {
     "data": {
      "text/html": [
       "<style>#sk-container-id-1 {color: black;}#sk-container-id-1 pre{padding: 0;}#sk-container-id-1 div.sk-toggleable {background-color: white;}#sk-container-id-1 label.sk-toggleable__label {cursor: pointer;display: block;width: 100%;margin-bottom: 0;padding: 0.3em;box-sizing: border-box;text-align: center;}#sk-container-id-1 label.sk-toggleable__label-arrow:before {content: \"▸\";float: left;margin-right: 0.25em;color: #696969;}#sk-container-id-1 label.sk-toggleable__label-arrow:hover:before {color: black;}#sk-container-id-1 div.sk-estimator:hover label.sk-toggleable__label-arrow:before {color: black;}#sk-container-id-1 div.sk-toggleable__content {max-height: 0;max-width: 0;overflow: hidden;text-align: left;background-color: #f0f8ff;}#sk-container-id-1 div.sk-toggleable__content pre {margin: 0.2em;color: black;border-radius: 0.25em;background-color: #f0f8ff;}#sk-container-id-1 input.sk-toggleable__control:checked~div.sk-toggleable__content {max-height: 200px;max-width: 100%;overflow: auto;}#sk-container-id-1 input.sk-toggleable__control:checked~label.sk-toggleable__label-arrow:before {content: \"▾\";}#sk-container-id-1 div.sk-estimator input.sk-toggleable__control:checked~label.sk-toggleable__label {background-color: #d4ebff;}#sk-container-id-1 div.sk-label input.sk-toggleable__control:checked~label.sk-toggleable__label {background-color: #d4ebff;}#sk-container-id-1 input.sk-hidden--visually {border: 0;clip: rect(1px 1px 1px 1px);clip: rect(1px, 1px, 1px, 1px);height: 1px;margin: -1px;overflow: hidden;padding: 0;position: absolute;width: 1px;}#sk-container-id-1 div.sk-estimator {font-family: monospace;background-color: #f0f8ff;border: 1px dotted black;border-radius: 0.25em;box-sizing: border-box;margin-bottom: 0.5em;}#sk-container-id-1 div.sk-estimator:hover {background-color: #d4ebff;}#sk-container-id-1 div.sk-parallel-item::after {content: \"\";width: 100%;border-bottom: 1px solid gray;flex-grow: 1;}#sk-container-id-1 div.sk-label:hover label.sk-toggleable__label {background-color: #d4ebff;}#sk-container-id-1 div.sk-serial::before {content: \"\";position: absolute;border-left: 1px solid gray;box-sizing: border-box;top: 0;bottom: 0;left: 50%;z-index: 0;}#sk-container-id-1 div.sk-serial {display: flex;flex-direction: column;align-items: center;background-color: white;padding-right: 0.2em;padding-left: 0.2em;position: relative;}#sk-container-id-1 div.sk-item {position: relative;z-index: 1;}#sk-container-id-1 div.sk-parallel {display: flex;align-items: stretch;justify-content: center;background-color: white;position: relative;}#sk-container-id-1 div.sk-item::before, #sk-container-id-1 div.sk-parallel-item::before {content: \"\";position: absolute;border-left: 1px solid gray;box-sizing: border-box;top: 0;bottom: 0;left: 50%;z-index: -1;}#sk-container-id-1 div.sk-parallel-item {display: flex;flex-direction: column;z-index: 1;position: relative;background-color: white;}#sk-container-id-1 div.sk-parallel-item:first-child::after {align-self: flex-end;width: 50%;}#sk-container-id-1 div.sk-parallel-item:last-child::after {align-self: flex-start;width: 50%;}#sk-container-id-1 div.sk-parallel-item:only-child::after {width: 0;}#sk-container-id-1 div.sk-dashed-wrapped {border: 1px dashed gray;margin: 0 0.4em 0.5em 0.4em;box-sizing: border-box;padding-bottom: 0.4em;background-color: white;}#sk-container-id-1 div.sk-label label {font-family: monospace;font-weight: bold;display: inline-block;line-height: 1.2em;}#sk-container-id-1 div.sk-label-container {text-align: center;}#sk-container-id-1 div.sk-container {/* jupyter's `normalize.less` sets `[hidden] { display: none; }` but bootstrap.min.css set `[hidden] { display: none !important; }` so we also need the `!important` here to be able to override the default hidden behavior on the sphinx rendered scikit-learn.org. See: https://github.com/scikit-learn/scikit-learn/issues/21755 */display: inline-block !important;position: relative;}#sk-container-id-1 div.sk-text-repr-fallback {display: none;}</style><div id=\"sk-container-id-1\" class=\"sk-top-container\"><div class=\"sk-text-repr-fallback\"><pre>MultinomialNB()</pre><b>In a Jupyter environment, please rerun this cell to show the HTML representation or trust the notebook. <br />On GitHub, the HTML representation is unable to render, please try loading this page with nbviewer.org.</b></div><div class=\"sk-container\" hidden><div class=\"sk-item\"><div class=\"sk-estimator sk-toggleable\"><input class=\"sk-toggleable__control sk-hidden--visually\" id=\"sk-estimator-id-1\" type=\"checkbox\" checked><label for=\"sk-estimator-id-1\" class=\"sk-toggleable__label sk-toggleable__label-arrow\">MultinomialNB</label><div class=\"sk-toggleable__content\"><pre>MultinomialNB()</pre></div></div></div></div></div>"
      ],
      "text/plain": [
       "MultinomialNB()"
      ]
     },
     "execution_count": 19,
     "metadata": {},
     "output_type": "execute_result"
    }
   ],
   "source": [
    "# Train with Bag of Words features\n",
    "nb_bow = MultinomialNB(alpha=1.0)\n",
    "nb_bow.fit(X_train_counts, y_train)"
   ]
  },
  {
   "cell_type": "code",
   "execution_count": 20,
   "id": "b7117d0e-db7b-48e6-804a-7cdec727ff46",
   "metadata": {},
   "outputs": [
    {
     "data": {
      "text/html": [
       "<style>#sk-container-id-2 {color: black;}#sk-container-id-2 pre{padding: 0;}#sk-container-id-2 div.sk-toggleable {background-color: white;}#sk-container-id-2 label.sk-toggleable__label {cursor: pointer;display: block;width: 100%;margin-bottom: 0;padding: 0.3em;box-sizing: border-box;text-align: center;}#sk-container-id-2 label.sk-toggleable__label-arrow:before {content: \"▸\";float: left;margin-right: 0.25em;color: #696969;}#sk-container-id-2 label.sk-toggleable__label-arrow:hover:before {color: black;}#sk-container-id-2 div.sk-estimator:hover label.sk-toggleable__label-arrow:before {color: black;}#sk-container-id-2 div.sk-toggleable__content {max-height: 0;max-width: 0;overflow: hidden;text-align: left;background-color: #f0f8ff;}#sk-container-id-2 div.sk-toggleable__content pre {margin: 0.2em;color: black;border-radius: 0.25em;background-color: #f0f8ff;}#sk-container-id-2 input.sk-toggleable__control:checked~div.sk-toggleable__content {max-height: 200px;max-width: 100%;overflow: auto;}#sk-container-id-2 input.sk-toggleable__control:checked~label.sk-toggleable__label-arrow:before {content: \"▾\";}#sk-container-id-2 div.sk-estimator input.sk-toggleable__control:checked~label.sk-toggleable__label {background-color: #d4ebff;}#sk-container-id-2 div.sk-label input.sk-toggleable__control:checked~label.sk-toggleable__label {background-color: #d4ebff;}#sk-container-id-2 input.sk-hidden--visually {border: 0;clip: rect(1px 1px 1px 1px);clip: rect(1px, 1px, 1px, 1px);height: 1px;margin: -1px;overflow: hidden;padding: 0;position: absolute;width: 1px;}#sk-container-id-2 div.sk-estimator {font-family: monospace;background-color: #f0f8ff;border: 1px dotted black;border-radius: 0.25em;box-sizing: border-box;margin-bottom: 0.5em;}#sk-container-id-2 div.sk-estimator:hover {background-color: #d4ebff;}#sk-container-id-2 div.sk-parallel-item::after {content: \"\";width: 100%;border-bottom: 1px solid gray;flex-grow: 1;}#sk-container-id-2 div.sk-label:hover label.sk-toggleable__label {background-color: #d4ebff;}#sk-container-id-2 div.sk-serial::before {content: \"\";position: absolute;border-left: 1px solid gray;box-sizing: border-box;top: 0;bottom: 0;left: 50%;z-index: 0;}#sk-container-id-2 div.sk-serial {display: flex;flex-direction: column;align-items: center;background-color: white;padding-right: 0.2em;padding-left: 0.2em;position: relative;}#sk-container-id-2 div.sk-item {position: relative;z-index: 1;}#sk-container-id-2 div.sk-parallel {display: flex;align-items: stretch;justify-content: center;background-color: white;position: relative;}#sk-container-id-2 div.sk-item::before, #sk-container-id-2 div.sk-parallel-item::before {content: \"\";position: absolute;border-left: 1px solid gray;box-sizing: border-box;top: 0;bottom: 0;left: 50%;z-index: -1;}#sk-container-id-2 div.sk-parallel-item {display: flex;flex-direction: column;z-index: 1;position: relative;background-color: white;}#sk-container-id-2 div.sk-parallel-item:first-child::after {align-self: flex-end;width: 50%;}#sk-container-id-2 div.sk-parallel-item:last-child::after {align-self: flex-start;width: 50%;}#sk-container-id-2 div.sk-parallel-item:only-child::after {width: 0;}#sk-container-id-2 div.sk-dashed-wrapped {border: 1px dashed gray;margin: 0 0.4em 0.5em 0.4em;box-sizing: border-box;padding-bottom: 0.4em;background-color: white;}#sk-container-id-2 div.sk-label label {font-family: monospace;font-weight: bold;display: inline-block;line-height: 1.2em;}#sk-container-id-2 div.sk-label-container {text-align: center;}#sk-container-id-2 div.sk-container {/* jupyter's `normalize.less` sets `[hidden] { display: none; }` but bootstrap.min.css set `[hidden] { display: none !important; }` so we also need the `!important` here to be able to override the default hidden behavior on the sphinx rendered scikit-learn.org. See: https://github.com/scikit-learn/scikit-learn/issues/21755 */display: inline-block !important;position: relative;}#sk-container-id-2 div.sk-text-repr-fallback {display: none;}</style><div id=\"sk-container-id-2\" class=\"sk-top-container\"><div class=\"sk-text-repr-fallback\"><pre>MultinomialNB()</pre><b>In a Jupyter environment, please rerun this cell to show the HTML representation or trust the notebook. <br />On GitHub, the HTML representation is unable to render, please try loading this page with nbviewer.org.</b></div><div class=\"sk-container\" hidden><div class=\"sk-item\"><div class=\"sk-estimator sk-toggleable\"><input class=\"sk-toggleable__control sk-hidden--visually\" id=\"sk-estimator-id-2\" type=\"checkbox\" checked><label for=\"sk-estimator-id-2\" class=\"sk-toggleable__label sk-toggleable__label-arrow\">MultinomialNB</label><div class=\"sk-toggleable__content\"><pre>MultinomialNB()</pre></div></div></div></div></div>"
      ],
      "text/plain": [
       "MultinomialNB()"
      ]
     },
     "execution_count": 20,
     "metadata": {},
     "output_type": "execute_result"
    }
   ],
   "source": [
    "# Train with TF-IDF features\n",
    "nb_tfidf = MultinomialNB(alpha=1.0)\n",
    "nb_tfidf.fit(X_train_tfidf, y_train)"
   ]
  },
  {
   "cell_type": "code",
   "execution_count": 21,
   "id": "9b6dd1de-acc9-4c12-8270-c440e32ca3d6",
   "metadata": {},
   "outputs": [],
   "source": [
    "# For Word2Vec features, we need to convert the data to a non-negative representation\n",
    "# because Multinomial NB requires non-negative feature values\n",
    "# One simple approach is min-max scaling\n",
    "def min_max_scale(X):\n",
    "   \"\"\"Scale features to [0, 1] range.\"\"\"\n",
    "   X_min = X.min(axis=0)\n",
    "   X_max = X.max(axis=0)\n",
    "   return (X - X_min) / (X_max - X_min + 1e-10)  # Adding a small epsilon to avoid division by zero\n"
   ]
  },
  {
   "cell_type": "code",
   "execution_count": 22,
   "id": "72ee2559-c22a-47f4-86cf-b5b52c78c0c2",
   "metadata": {},
   "outputs": [],
   "source": [
    "X_train_w2v_scaled = min_max_scale(X_train_w2v)\n",
    "X_test_w2v_scaled = min_max_scale(X_test_w2v)"
   ]
  },
  {
   "cell_type": "code",
   "execution_count": 23,
   "id": "3c65200f-89bc-4816-a1a4-9fe436627293",
   "metadata": {},
   "outputs": [
    {
     "data": {
      "text/html": [
       "<style>#sk-container-id-3 {color: black;}#sk-container-id-3 pre{padding: 0;}#sk-container-id-3 div.sk-toggleable {background-color: white;}#sk-container-id-3 label.sk-toggleable__label {cursor: pointer;display: block;width: 100%;margin-bottom: 0;padding: 0.3em;box-sizing: border-box;text-align: center;}#sk-container-id-3 label.sk-toggleable__label-arrow:before {content: \"▸\";float: left;margin-right: 0.25em;color: #696969;}#sk-container-id-3 label.sk-toggleable__label-arrow:hover:before {color: black;}#sk-container-id-3 div.sk-estimator:hover label.sk-toggleable__label-arrow:before {color: black;}#sk-container-id-3 div.sk-toggleable__content {max-height: 0;max-width: 0;overflow: hidden;text-align: left;background-color: #f0f8ff;}#sk-container-id-3 div.sk-toggleable__content pre {margin: 0.2em;color: black;border-radius: 0.25em;background-color: #f0f8ff;}#sk-container-id-3 input.sk-toggleable__control:checked~div.sk-toggleable__content {max-height: 200px;max-width: 100%;overflow: auto;}#sk-container-id-3 input.sk-toggleable__control:checked~label.sk-toggleable__label-arrow:before {content: \"▾\";}#sk-container-id-3 div.sk-estimator input.sk-toggleable__control:checked~label.sk-toggleable__label {background-color: #d4ebff;}#sk-container-id-3 div.sk-label input.sk-toggleable__control:checked~label.sk-toggleable__label {background-color: #d4ebff;}#sk-container-id-3 input.sk-hidden--visually {border: 0;clip: rect(1px 1px 1px 1px);clip: rect(1px, 1px, 1px, 1px);height: 1px;margin: -1px;overflow: hidden;padding: 0;position: absolute;width: 1px;}#sk-container-id-3 div.sk-estimator {font-family: monospace;background-color: #f0f8ff;border: 1px dotted black;border-radius: 0.25em;box-sizing: border-box;margin-bottom: 0.5em;}#sk-container-id-3 div.sk-estimator:hover {background-color: #d4ebff;}#sk-container-id-3 div.sk-parallel-item::after {content: \"\";width: 100%;border-bottom: 1px solid gray;flex-grow: 1;}#sk-container-id-3 div.sk-label:hover label.sk-toggleable__label {background-color: #d4ebff;}#sk-container-id-3 div.sk-serial::before {content: \"\";position: absolute;border-left: 1px solid gray;box-sizing: border-box;top: 0;bottom: 0;left: 50%;z-index: 0;}#sk-container-id-3 div.sk-serial {display: flex;flex-direction: column;align-items: center;background-color: white;padding-right: 0.2em;padding-left: 0.2em;position: relative;}#sk-container-id-3 div.sk-item {position: relative;z-index: 1;}#sk-container-id-3 div.sk-parallel {display: flex;align-items: stretch;justify-content: center;background-color: white;position: relative;}#sk-container-id-3 div.sk-item::before, #sk-container-id-3 div.sk-parallel-item::before {content: \"\";position: absolute;border-left: 1px solid gray;box-sizing: border-box;top: 0;bottom: 0;left: 50%;z-index: -1;}#sk-container-id-3 div.sk-parallel-item {display: flex;flex-direction: column;z-index: 1;position: relative;background-color: white;}#sk-container-id-3 div.sk-parallel-item:first-child::after {align-self: flex-end;width: 50%;}#sk-container-id-3 div.sk-parallel-item:last-child::after {align-self: flex-start;width: 50%;}#sk-container-id-3 div.sk-parallel-item:only-child::after {width: 0;}#sk-container-id-3 div.sk-dashed-wrapped {border: 1px dashed gray;margin: 0 0.4em 0.5em 0.4em;box-sizing: border-box;padding-bottom: 0.4em;background-color: white;}#sk-container-id-3 div.sk-label label {font-family: monospace;font-weight: bold;display: inline-block;line-height: 1.2em;}#sk-container-id-3 div.sk-label-container {text-align: center;}#sk-container-id-3 div.sk-container {/* jupyter's `normalize.less` sets `[hidden] { display: none; }` but bootstrap.min.css set `[hidden] { display: none !important; }` so we also need the `!important` here to be able to override the default hidden behavior on the sphinx rendered scikit-learn.org. See: https://github.com/scikit-learn/scikit-learn/issues/21755 */display: inline-block !important;position: relative;}#sk-container-id-3 div.sk-text-repr-fallback {display: none;}</style><div id=\"sk-container-id-3\" class=\"sk-top-container\"><div class=\"sk-text-repr-fallback\"><pre>MultinomialNB()</pre><b>In a Jupyter environment, please rerun this cell to show the HTML representation or trust the notebook. <br />On GitHub, the HTML representation is unable to render, please try loading this page with nbviewer.org.</b></div><div class=\"sk-container\" hidden><div class=\"sk-item\"><div class=\"sk-estimator sk-toggleable\"><input class=\"sk-toggleable__control sk-hidden--visually\" id=\"sk-estimator-id-3\" type=\"checkbox\" checked><label for=\"sk-estimator-id-3\" class=\"sk-toggleable__label sk-toggleable__label-arrow\">MultinomialNB</label><div class=\"sk-toggleable__content\"><pre>MultinomialNB()</pre></div></div></div></div></div>"
      ],
      "text/plain": [
       "MultinomialNB()"
      ]
     },
     "execution_count": 23,
     "metadata": {},
     "output_type": "execute_result"
    }
   ],
   "source": [
    "# Train with Word2Vec features\n",
    "nb_w2v = MultinomialNB(alpha=1.0)\n",
    "nb_w2v.fit(X_train_w2v_scaled, y_train)"
   ]
  },
  {
   "cell_type": "code",
   "execution_count": 24,
   "id": "eccb4f23-fe05-46a6-ad6a-c690d627aa41",
   "metadata": {},
   "outputs": [
    {
     "name": "stdout",
     "output_type": "stream",
     "text": [
      "\n",
      "Top discriminative features per department (Bag of Words model):\n",
      "\n",
      "Top words for 'app_experience':\n",
      "app, update, cant, even, doesnt, keep, screen, route, use, even though\n",
      "\n",
      "Top words for 'navigation_issues':\n",
      "map, doesnt, show, station, app, bus, close, cant, route, option\n",
      "\n",
      "Top words for 'service_updates':\n",
      "app, show, bus, service, minute, information, doesnt, station, schedule, transit\n",
      "\n",
      "Top discriminative bigrams per department (Bag of Words model):\n",
      "\n",
      "Top bigrams for 'app_experience':\n",
      "even though, app doesnt, app need, cant figure, app crash\n",
      "\n",
      "Top bigrams for 'navigation_issues':\n",
      "map doesnt, bus stop, cant find, doesnt show, subway station\n",
      "\n",
      "Top bigrams for 'service_updates':\n",
      "app doesnt, app show, accord app, show bus, alert dont\n"
     ]
    }
   ],
   "source": [
    "# Function to display top features by class\n",
    "def display_top_features(classifier, vectorizer, class_labels, n=10):\n",
    "   \"\"\"Display the top n words for each class based on their likelihood.\"\"\"\n",
    "   feature_names = vectorizer.get_feature_names_out()\n",
    "   for i, class_label in enumerate(class_labels):\n",
    "       top_indices = np.argsort(classifier.feature_log_prob_[i])[-n:][::-1]\n",
    "       top_features = [feature_names[j] for j in top_indices]\n",
    "       print(f\"\\nTop words for '{class_label}':\")\n",
    "       print(\", \".join(top_features))\n",
    "\n",
    "\n",
    "# Display top features for Bag of Words model\n",
    "print(\"\\nTop discriminative features per department (Bag of Words model):\")\n",
    "display_top_features(nb_bow, count_vectorizer, nb_bow.classes_)\n",
    "\n",
    "\n",
    "# Display top features for BoW model, focusing on bigrams\n",
    "print(\"\\nTop discriminative bigrams per department (Bag of Words model):\")\n",
    "def display_top_ngrams(classifier, vectorizer, class_labels, n=5):\n",
    "   \"\"\"Display the top n bigrams for each class based on their likelihood.\"\"\"\n",
    "   feature_names = vectorizer.get_feature_names_out()\n",
    "   # Get indices of all bigram features\n",
    "   bigram_indices = [i for i, feat in enumerate(feature_names) if ' ' in feat]\n",
    "  \n",
    "   for i, class_label in enumerate(class_labels):\n",
    "       # Filter to only consider bigram features\n",
    "       bigram_log_probs = [(j, classifier.feature_log_prob_[i][j]) for j in bigram_indices]\n",
    "       # Sort by probability (highest first)\n",
    "       top_bigram_indices = sorted(bigram_log_probs, key=lambda x: x[1], reverse=True)[:n]\n",
    "       top_bigrams = [feature_names[j] for j, _ in top_bigram_indices]\n",
    "       print(f\"\\nTop bigrams for '{class_label}':\")\n",
    "       print(\", \".join(top_bigrams))\n",
    "\n",
    "\n",
    "display_top_ngrams(nb_bow, count_vectorizer, nb_bow.classes_)"
   ]
  },
  {
   "cell_type": "code",
   "execution_count": 54,
   "id": "2c744a3d-21b9-4437-af37-a2e515e20e14",
   "metadata": {},
   "outputs": [],
   "source": [
    "\n",
    "# Transform test data using the fitted vectorizers\n",
    "X_test_counts = count_vectorizer.transform(X_test)\n",
    "X_test_tfidf = tfidf_vectorizer.transform(X_test)\n",
    "# Word2Vec test data was already prepared above\n",
    "\n",
    "\n",
    "# Predict with Bag of Words model\n",
    "y_pred_bow = nb_bow.predict(X_test_counts)\n",
    "\n",
    "\n",
    "# Predict with TF-IDF model\n",
    "y_pred_tfidf = nb_tfidf.predict(X_test_tfidf)\n",
    "\n",
    "\n",
    "# Predict with Word2Vec model\n",
    "y_pred_w2v = nb_w2v.predict(X_test_w2v_scaled)\n"
   ]
  },
  {
   "cell_type": "code",
   "execution_count": 55,
   "id": "f50d4232-ba29-447e-9040-96e51f1692fc",
   "metadata": {},
   "outputs": [
    {
     "name": "stdout",
     "output_type": "stream",
     "text": [
      "\n",
      "Bag of Words Model Performance:\n",
      "Accuracy: 0.8000\n",
      "\n",
      "Classification Report:\n",
      "                   precision    recall  f1-score   support\n",
      "\n",
      "   app_experience       0.80      0.80      0.80        20\n",
      "navigation_issues       0.83      0.75      0.79        20\n",
      "  service_updates       0.77      0.85      0.81        20\n",
      "\n",
      "         accuracy                           0.80        60\n",
      "        macro avg       0.80      0.80      0.80        60\n",
      "     weighted avg       0.80      0.80      0.80        60\n",
      "\n"
     ]
    },
    {
     "data": {
      "image/png": "[encoded data removed]",
      "text/plain": [
       "<Figure size 800x600 with 2 Axes>"
      ]
     },
     "metadata": {},
     "output_type": "display_data"
    },
    {
     "name": "stdout",
     "output_type": "stream",
     "text": [
      "\n",
      "TF-IDF Model Performance:\n",
      "Accuracy: 0.8000\n",
      "\n",
      "Classification Report:\n",
      "                   precision    recall  f1-score   support\n",
      "\n",
      "   app_experience       0.84      0.80      0.82        20\n",
      "navigation_issues       0.79      0.75      0.77        20\n",
      "  service_updates       0.77      0.85      0.81        20\n",
      "\n",
      "         accuracy                           0.80        60\n",
      "        macro avg       0.80      0.80      0.80        60\n",
      "     weighted avg       0.80      0.80      0.80        60\n",
      "\n"
     ]
    },
    {
     "data": {
      "image/png": "[encoded data removed]",
      "text/plain": [
       "<Figure size 800x600 with 2 Axes>"
      ]
     },
     "metadata": {},
     "output_type": "display_data"
    },
    {
     "name": "stdout",
     "output_type": "stream",
     "text": [
      "\n",
      "Word2Vec Model Performance:\n",
      "Accuracy: 0.5167\n",
      "\n",
      "Classification Report:\n",
      "                   precision    recall  f1-score   support\n",
      "\n",
      "   app_experience       0.64      0.45      0.53        20\n",
      "navigation_issues       0.52      0.65      0.58        20\n",
      "  service_updates       0.43      0.45      0.44        20\n",
      "\n",
      "         accuracy                           0.52        60\n",
      "        macro avg       0.53      0.52      0.52        60\n",
      "     weighted avg       0.53      0.52      0.52        60\n",
      "\n"
     ]
    },
    {
     "data": {
      "image/png": "[encoded data removed]",
      "text/plain": [
       "<Figure size 800x600 with 2 Axes>"
      ]
     },
     "metadata": {},
     "output_type": "display_data"
    }
   ],
   "source": [
    "# Function to evaluate and display model performance\n",
    "def evaluate_model(y_true, y_pred, model_name):\n",
    "   \"\"\"Evaluate a model and print performance metrics.\"\"\"\n",
    "   accuracy = accuracy_score(y_true, y_pred)\n",
    "   print(f\"\\n{model_name} Model Performance:\")\n",
    "   print(f\"Accuracy: {accuracy:.4f}\")\n",
    "   print(\"\\nClassification Report:\")\n",
    "   print(classification_report(y_true, y_pred))\n",
    "  \n",
    "   # Create a confusion matrix\n",
    "   cm = confusion_matrix(y_true, y_pred)\n",
    "  \n",
    "   # Plot confusion matrix as a heatmap\n",
    "   plt.figure(figsize=(8, 6))\n",
    "   sns.heatmap(cm, annot=True, fmt='d', cmap='Blues',\n",
    "              xticklabels=sorted(set(y_true)),\n",
    "              yticklabels=sorted(set(y_true)))\n",
    "   plt.title(f'Confusion Matrix - {model_name}')\n",
    "   plt.xlabel('Predicted')\n",
    "   plt.ylabel('True')\n",
    "   plt.tight_layout()\n",
    "   plt.show()\n",
    "  \n",
    "   return accuracy\n",
    "\n",
    "\n",
    "# Evaluate all models\n",
    "bow_accuracy = evaluate_model(y_test, y_pred_bow, \"Bag of Words\")\n",
    "tfidf_accuracy = evaluate_model(y_test, y_pred_tfidf, \"TF-IDF\")\n",
    "w2v_accuracy = evaluate_model(y_test, y_pred_w2v, \"Word2Vec\")"
   ]
  },
  {
   "cell_type": "code",
   "execution_count": null,
   "id": "fb264d56-f383-4441-a7f7-11eeeddbce7a",
   "metadata": {},
   "outputs": [],
   "source": []
  },
  {
   "cell_type": "code",
   "execution_count": null,
   "id": "ea945f80-1f9a-4df6-894a-968873edb526",
   "metadata": {},
   "outputs": [],
   "source": []
  }
 ],
 "metadata": {
  "kernelspec": {
   "display_name": "Python 3 (ipykernel)",
   "language": "python",
   "name": "python3"
  },
  "language_info": {
   "codemirror_mode": {
    "name": "ipython",
    "version": 3
   },
   "file_extension": ".py",
   "mimetype": "text/x-python",
   "name": "python",
   "nbconvert_exporter": "python",
   "pygments_lexer": "ipython3",
   "version": "3.11.6"
  }
 },
 "nbformat": 4,
 "nbformat_minor": 5
}
